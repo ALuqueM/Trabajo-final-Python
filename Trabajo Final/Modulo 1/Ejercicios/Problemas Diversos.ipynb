{
 "cells": [
  {
   "cell_type": "markdown",
   "metadata": {},
   "source": [
    "# PROBLEMAS DIVERSOS"
   ]
  },
  {
   "cell_type": "markdown",
   "metadata": {},
   "source": [
    "<h3>1.</h3>\n",
    "Imagina que acabas de abrir una nueva cuenta de ahorros que te ofrece el 4% de interés al año. Estos ahorros debido a intereses, que no se cobran hasta finales de año, se te añaden al balance final de tu cuenta de ahorros. Escribir un programa que comience leyendo la cantidad de dinero depositada en la cuenta de ahorros, introducida por el usuario. Después el programa debe calcular y mostrar por pantalla la cantidad de ahorros tras el primer, segundo y tercer años. Redondear cada cantidad a dos decimales."
   ]
  },
  {
   "cell_type": "code",
   "execution_count": 6,
   "metadata": {},
   "outputs": [
    {
     "name": "stdin",
     "output_type": "stream",
     "text": [
      "Ingresar cantidad de ahorros en soles:  54\n"
     ]
    },
    {
     "name": "stdout",
     "output_type": "stream",
     "text": [
      "El primer año recibe: 56.16.\n",
      "El segundo año recibe: 58.41.\n",
      "El tercer año recibe: 60.75.\n"
     ]
    }
   ],
   "source": [
    "x= int(input('Ingresar cantidad de ahorros en soles: '))\n",
    "y= x+ (x*0.04)\n",
    "y=round(y,2)\n",
    "print('El primer año recibe: {}.'.format(y))\n",
    "z= y+ (y*0.04)\n",
    "z=round(z,2)\n",
    "print('El segundo año recibe: {}.'.format(z))\n",
    "a= z+ (z*0.04)\n",
    "a=round(a,2)\n",
    "print('El tercer año recibe: {}.'.format(a))\n"
   ]
  },
  {
   "cell_type": "markdown",
   "metadata": {},
   "source": [
    "### 2.\n",
    "Escriba un programa que pida los coeficientes de una ecuación de segundo grado <code>(a x² + b x + c = 0)</code> y escriba la solución.\n",
    "\n",
    "Se recuerda que una ecuación de segundo grado puede no tener solución, tener una solución única, tener dos soluciones o que todos los números sean solución."
   ]
  },
  {
   "cell_type": "markdown",
   "metadata": {},
   "source": [
    "<img src='https://i.pinimg.com/originals/d3/f7/01/d3f701528ad56ce0f5a98d7c91722fd7.png'>"
   ]
  },
  {
   "cell_type": "markdown",
   "metadata": {},
   "source": [
    "Su programa debe indicar:\n",
    "- En caso la ecuación cuadrática tenga solución real, su programa debe brindar la solución\n",
    "- En caso su ecuación no tenga solución real, su programa debe brindar un mensaje que diga \"Ecuación no presenta solución real\""
   ]
  },
  {
   "cell_type": "code",
   "execution_count": 8,
   "metadata": {},
   "outputs": [
    {
     "name": "stdin",
     "output_type": "stream",
     "text": [
      "Ingrese primer coeficiente:  1\n",
      "Ingrese segundo coeficiente:  2\n",
      "Ingrese tercer coeficiente:  3\n"
     ]
    },
    {
     "name": "stdout",
     "output_type": "stream",
     "text": [
      "No tinen solucion.\n"
     ]
    }
   ],
   "source": [
    "import math\n",
    "x= int(input('Ingrese primer coeficiente: '))\n",
    "y= int(input('Ingrese segundo coeficiente: '))\n",
    "z= int(input('Ingrese tercer coeficiente: '))\n",
    "d= pow(y,2)-4*x*z\n",
    "if d >=0:\n",
    "    x1 = (-y+math.sqrt(d)/(2*x))\n",
    "    x2 = (-y-math.sqrt(d)/(2*x))\n",
    "    print('Primera Solucion:',x1)\n",
    "    print('Segunda Solucion: ',x2)\n",
    "else:\n",
    "    print('No tinen solucion.')"
   ]
  },
  {
   "cell_type": "code",
   "execution_count": null,
   "metadata": {},
   "outputs": [],
   "source": []
  },
  {
   "cell_type": "code",
   "execution_count": null,
   "metadata": {},
   "outputs": [],
   "source": []
  },
  {
   "cell_type": "code",
   "execution_count": null,
   "metadata": {},
   "outputs": [],
   "source": []
  }
 ],
 "metadata": {
  "kernelspec": {
   "display_name": "Python 3",
   "language": "python",
   "name": "python3"
  },
  "language_info": {
   "codemirror_mode": {
    "name": "ipython",
    "version": 3
   },
   "file_extension": ".py",
   "mimetype": "text/x-python",
   "name": "python",
   "nbconvert_exporter": "python",
   "pygments_lexer": "ipython3",
   "version": "3.8.5"
  }
 },
 "nbformat": 4,
 "nbformat_minor": 4
}
