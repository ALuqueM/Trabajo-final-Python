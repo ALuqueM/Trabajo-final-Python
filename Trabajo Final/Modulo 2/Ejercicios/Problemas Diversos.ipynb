{
 "cells": [
  {
   "cell_type": "markdown",
   "metadata": {},
   "source": [
    "# PROBLEMAS DIVERSOS"
   ]
  },
  {
   "cell_type": "markdown",
   "metadata": {},
   "source": [
    "<h3>1.</h3>\n",
    "Realizar una función que permita la carga de n alumnos. Por cada alumno se deberá preguntar el nombre completo y permitir el ingreso de 3 notas. Las notas deben estar comprendidas entre 0 y 10. Devolver el listado de alumnos."
   ]
  },
  {
   "cell_type": "code",
   "execution_count": 189,
   "metadata": {},
   "outputs": [
    {
     "name": "stdin",
     "output_type": "stream",
     "text": [
      "Cantidad de alumnos a Ingresar:  2\n",
      "Ingrese el nombre del alumno 1: abraham\n",
      "Introduce la nota (0-10):  5\n",
      "Introduce la nota (0-10):  6\n",
      "Introduce la nota (0-10):  7\n",
      "Ingrese el nombre del alumno 2: keiht\n",
      "Introduce la nota (0-10):  8\n",
      "Introduce la nota (0-10):  9\n",
      "Introduce la nota (0-10):  10\n"
     ]
    }
   ],
   "source": [
    "def ingresar_nota():\n",
    "    while True:\n",
    "        try:\n",
    "            nota= float(input('Introduce la nota (0-10): '))\n",
    "            if nota>=0 and nota<=10:\n",
    "                return nota\n",
    "            else:\n",
    "                print('Nota fuera de rango.')\n",
    "        except:\n",
    "            print('Ha ocurrido un error, introduce bien la nota')\n",
    "        \n",
    "def listar_alumnos (cantidad_alumnos):\n",
    "    lista_alumnos =[]\n",
    "    for i in range (n):\n",
    "        alumno={}\n",
    "        alumno['nombre']= input('Ingrese el nombre del alumno {}:'.format(i+1))\n",
    "        alumno ['nota1'] = ingresar_nota()\n",
    "        alumno ['nota2'] = ingresar_nota()\n",
    "        alumno ['nota3'] = ingresar_nota()\n",
    "    \n",
    "    \n",
    "        lista_alumnos.append(alumno)\n",
    "    return lista_alumnos\n",
    "n = int(input('Cantidad de alumnos a Ingresar: '))\n",
    "\n",
    "lista_alumnos =listar_alumnos(n)\n",
    "\n"
   ]
  },
  {
   "cell_type": "code",
   "execution_count": 190,
   "metadata": {},
   "outputs": [
    {
     "data": {
      "text/plain": [
       "[{'nombre': 'abraham', 'nota1': 5.0, 'nota2': 6.0, 'nota3': 7.0},\n",
       " {'nombre': 'keiht', 'nota1': 8.0, 'nota2': 9.0, 'nota3': 10.0}]"
      ]
     },
     "execution_count": 190,
     "metadata": {},
     "output_type": "execute_result"
    }
   ],
   "source": [
    "lista_alumnos"
   ]
  },
  {
   "cell_type": "markdown",
   "metadata": {},
   "source": [
    "### 2.\n",
    "Definir una función que dado un listado de alumnos evalúe cuántos aprobaron y cuántos desaprobaron, teniendo en cuenta que se aprueba con 4. La nota será el promedio de las 3 notas para cada alumno."
   ]
  },
  {
   "cell_type": "code",
   "execution_count": 203,
   "metadata": {},
   "outputs": [
    {
     "name": "stdin",
     "output_type": "stream",
     "text": [
      "Indique de que acuerdo al orden que ingreso que alumno quiere ver si esta aprobado: 2\n"
     ]
    },
    {
     "name": "stdout",
     "output_type": "stream",
     "text": [
      "keiht\n",
      "Aprobado\n",
      "keiht\n",
      "Aprobado\n"
     ]
    }
   ],
   "source": [
    "a= int(input('Indique de que acuerdo al orden que ingreso que alumno quiere ver si esta aprobado:'))\n",
    "a=a-1\n",
    "def aprobado(z):\n",
    "    aprobados=[]\n",
    "    for x in range(1,n+1) :\n",
    "        y=int((lista_alumnos[z]['nota1']+lista_alumnos[z]['nota2']+lista_alumnos[z]['nota3'])/3)\n",
    "        if y>4:\n",
    "            print(lista_alumnos[z]['nombre'])\n",
    "            print('Aprobado')\n",
    "            aprobados.append(lista_alumnos[z]['nombre'])\n",
    "        else:\n",
    "            print(lista_alumnos[z]['nombre'])\n",
    "            print('Desaprobado')\n",
    "    \n",
    "    return \n",
    "\n",
    "aprobado(a)\n",
    "\n"
   ]
  },
  {
   "cell_type": "markdown",
   "metadata": {},
   "source": [
    "### 3.\n",
    "Informar el promedio de nota del curso total."
   ]
  },
  {
   "cell_type": "code",
   "execution_count": 201,
   "metadata": {},
   "outputs": [
    {
     "name": "stdin",
     "output_type": "stream",
     "text": [
      "Indique de que acuerdo al orden que ingreso que alumno quiere ver su promedio: 1\n"
     ]
    },
    {
     "name": "stdout",
     "output_type": "stream",
     "text": [
      "abraham\n",
      "abraham\n"
     ]
    },
    {
     "data": {
      "text/plain": [
       "6.0"
      ]
     },
     "execution_count": 201,
     "metadata": {},
     "output_type": "execute_result"
    }
   ],
   "source": [
    "a= int(input('Indique de que acuerdo al orden que ingreso que alumno quiere ver su promedio:'))-1\n",
    "\n",
    "def promedio(z):\n",
    "    promedio=[]\n",
    "    for x in range(1,n+1) :\n",
    "        y=(lista_alumnos[z]['nota1']+lista_alumnos[z]['nota2']+lista_alumnos[z]['nota3'])/3\n",
    "        print(lista_alumnos[z]['nombre'])\n",
    "    \n",
    "    return y\n",
    "\n",
    "promedio(a)"
   ]
  },
  {
   "cell_type": "code",
   "execution_count": null,
   "metadata": {},
   "outputs": [],
   "source": []
  },
  {
   "cell_type": "markdown",
   "metadata": {},
   "source": [
    "### 4.\n",
    "Realizar una función que indique quién tuvo el promedio más alto y quién tuvo la nota promedio más baja."
   ]
  },
  {
   "cell_type": "code",
   "execution_count": null,
   "metadata": {},
   "outputs": [],
   "source": []
  },
  {
   "cell_type": "code",
   "execution_count": null,
   "metadata": {},
   "outputs": [],
   "source": []
  },
  {
   "cell_type": "code",
   "execution_count": null,
   "metadata": {},
   "outputs": [],
   "source": []
  },
  {
   "cell_type": "markdown",
   "metadata": {},
   "source": [
    "### 5.\n",
    "Realizar una función que permita buscar un alumno por nombre, siendo el nombre completo o parcial, y devuelva una lista con los n alumnos que concuerden con ese nombre junto con todos sus datos, incluido el promedio de sus notas."
   ]
  },
  {
   "cell_type": "code",
   "execution_count": null,
   "metadata": {},
   "outputs": [],
   "source": []
  }
 ],
 "metadata": {
  "kernelspec": {
   "display_name": "Python 3",
   "language": "python",
   "name": "python3"
  },
  "language_info": {
   "codemirror_mode": {
    "name": "ipython",
    "version": 3
   },
   "file_extension": ".py",
   "mimetype": "text/x-python",
   "name": "python",
   "nbconvert_exporter": "python",
   "pygments_lexer": "ipython3",
   "version": "3.8.5"
  }
 },
 "nbformat": 4,
 "nbformat_minor": 4
}
